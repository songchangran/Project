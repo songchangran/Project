{
 "cells": [
  {
   "cell_type": "code",
   "execution_count": 3,
   "id": "c6bab012-4308-4133-b587-1586be910dc8",
   "metadata": {},
   "outputs": [
    {
     "name": "stdout",
     "output_type": "stream",
     "text": [
      "平均绝对误差 MAE: 897.33\n",
      "均方根误差 RMSE: 1658.02\n"
     ]
    }
   ],
   "source": [
    "import warnings\n",
    "import numpy as np\n",
    "import pandas as pd\n",
    "from xgboost import XGBRegressor\n",
    "from sklearn.model_selection import train_test_split\n",
    "from sklearn.metrics import mean_absolute_error, mean_squared_error\n",
    "\n",
    "# 读取CSV文件\n",
    "df = pd.read_csv(\"./lianjia_data.csv\")\n",
    "\n",
    "# 忽略未来版本影响\n",
    "warnings.filterwarnings('ignore')\n",
    "\n",
    "# 数据预处理\n",
    "# 将“价格”列去除单位和逗号，并转换为float\n",
    "df[\"price\"] = df[\"price\"].str.replace(\"元/平\", \"\").str.replace(\",\", \"\").astype(float)\n",
    "\n",
    "# 将“面积”列去除“平米”单位，并转换为float\n",
    "df[\"area\"] = df[\"area\"].str.replace(\"平米\", \"\").astype(float)\n",
    "\n",
    "# 从“建成年份”中提取年份（格式为“xxxx年”）\n",
    "df[\"build_year\"] = df[\"build_time\"].str.extract(r\"(\\d{4})\").astype(float)\n",
    "\n",
    "# 从“户型”中提取房间数和厅数，例如“2室1厅”\n",
    "df[\"rooms\"] = df[\"house_types\"].str.extract(r\"(\\d+)室\").astype(float)\n",
    "df[\"halls\"] = df[\"house_types\"].str.extract(r\"(\\d+)厅\").astype(float)\n",
    "\n",
    "# 对缺失的建成年份用中位数填充（防止模型出错）\n",
    "df[\"build_year\"].fillna(df[\"build_year\"].median(), inplace=True)\n",
    "\n",
    "# 1. 构建特征集和目标值\n",
    "# 选择的特征有：面积、房间数、厅数、总价、建成年份\n",
    "features = [\"area\", \"rooms\", \"halls\", \"total_price\", \"build_year\"]\n",
    "df_model = df[features + [\"price\"]].dropna()  # 去除空值\n",
    "\n",
    "X = df_model[features]  # 特征数据\n",
    "y = df_model[\"price\"]   # 目标值（每平米房价）\n",
    "\n",
    "# 2. 数据划分为训练集和测试集（80%训练，20%测试）\n",
    "X_train, X_test, y_train, y_test = train_test_split(X, y, test_size=0.2, random_state=42)\n",
    "\n",
    "# 3. 创建并训练XGBoost模型\n",
    "model = XGBRegressor(n_estimators=100, learning_rate=0.1, random_state=42)\n",
    "model.fit(X_train, y_train)\n",
    "\n",
    "\n",
    "# 4. 模型预测与评估\n",
    "y_pred = model.predict(X_test)\n",
    "\n",
    "# 5. 计算误差指标\n",
    "mae = mean_absolute_error(y_test, y_pred)\n",
    "rmse = np.sqrt(mean_squared_error(y_test, y_pred))  # 自己开方算 RMSE\n",
    "\n",
    "print(f\"平均绝对误差 MAE: {mae:.2f}\")\n",
    "print(f\"均方根误差 RMSE: {rmse:.2f}\")"
   ]
  }
 ],
 "metadata": {
  "kernelspec": {
   "display_name": "Python 3 (ipykernel)",
   "language": "python",
   "name": "python3"
  },
  "language_info": {
   "codemirror_mode": {
    "name": "ipython",
    "version": 3
   },
   "file_extension": ".py",
   "mimetype": "text/x-python",
   "name": "python",
   "nbconvert_exporter": "python",
   "pygments_lexer": "ipython3",
   "version": "3.12.9"
  }
 },
 "nbformat": 4,
 "nbformat_minor": 5
}
