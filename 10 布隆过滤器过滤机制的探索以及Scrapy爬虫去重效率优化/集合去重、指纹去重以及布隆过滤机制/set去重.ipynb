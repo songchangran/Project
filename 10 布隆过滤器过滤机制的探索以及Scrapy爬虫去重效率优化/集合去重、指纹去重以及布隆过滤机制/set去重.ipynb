{
 "cells": [
  {
   "cell_type": "code",
   "execution_count": 2,
   "id": "d57c865f-221c-4622-9c49-6d80bd09f032",
   "metadata": {},
   "outputs": [],
   "source": [
    "# 准备数据\n",
    "data = ['data1', 'data2', 'data1', 'data3']"
   ]
  },
  {
   "cell_type": "code",
   "execution_count": 3,
   "id": "8e5bdab1-e27e-42ff-8ab3-c6dfaf3ade6e",
   "metadata": {},
   "outputs": [],
   "source": [
    "# 初始化集合\n",
    "seen = set()"
   ]
  },
  {
   "cell_type": "code",
   "execution_count": 4,
   "id": "64f45f1f-966b-457d-8413-44c72323c2cc",
   "metadata": {},
   "outputs": [
    {
     "name": "stdout",
     "output_type": "stream",
     "text": [
      "data3\n",
      "data2\n",
      "data1\n"
     ]
    }
   ],
   "source": [
    "# 将数据放入到集合中，通过集合内元素的唯一性实现去重\n",
    "for i in data:\n",
    "    seen.add(i)\n",
    "\n",
    "# 打印去重结果\n",
    "for i in seen:\n",
    "    print(i)"
   ]
  }
 ],
 "metadata": {
  "kernelspec": {
   "display_name": "Python 3 (ipykernel)",
   "language": "python",
   "name": "python3"
  },
  "language_info": {
   "codemirror_mode": {
    "name": "ipython",
    "version": 3
   },
   "file_extension": ".py",
   "mimetype": "text/x-python",
   "name": "python",
   "nbconvert_exporter": "python",
   "pygments_lexer": "ipython3",
   "version": "3.12.9"
  }
 },
 "nbformat": 4,
 "nbformat_minor": 5
}
