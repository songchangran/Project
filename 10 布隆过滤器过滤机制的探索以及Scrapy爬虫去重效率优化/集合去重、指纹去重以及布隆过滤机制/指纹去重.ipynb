{
 "cells": [
  {
   "cell_type": "code",
   "execution_count": 34,
   "id": "0d4644fe-f6ae-42e7-a1fa-3e8e2c7d7a75",
   "metadata": {},
   "outputs": [
    {
     "name": "stdout",
     "output_type": "stream",
     "text": [
      "data1\n",
      "data2\n",
      "data3\n"
     ]
    }
   ],
   "source": [
    "# 导包\n",
    "from hashlib import md5\n",
    "\n",
    "# 准备数据\n",
    "data = ['data1', 'data2', 'data1', 'data3']\n",
    "\n",
    "# 空容器，暂存数据\n",
    "data_list = []\n",
    "\n",
    "# 初始化集合\n",
    "hash_seen = set()\n",
    "\n",
    "# 将经过MD5处理后的数据放入到集合中，通过集合内元素的唯一性实现去重\n",
    "for i in data:\n",
    "    a = md5(i.encode()).hexdigest()\n",
    "    if a not in hash_seen:\n",
    "        hash_seen.add(a)\n",
    "        data_list.append(i)\n",
    "\n",
    "# 打印去重结果\n",
    "for i in data_list:\n",
    "    print(i)"
   ]
  }
 ],
 "metadata": {
  "kernelspec": {
   "display_name": "Python 3 (ipykernel)",
   "language": "python",
   "name": "python3"
  },
  "language_info": {
   "codemirror_mode": {
    "name": "ipython",
    "version": 3
   },
   "file_extension": ".py",
   "mimetype": "text/x-python",
   "name": "python",
   "nbconvert_exporter": "python",
   "pygments_lexer": "ipython3",
   "version": "3.12.9"
  }
 },
 "nbformat": 4,
 "nbformat_minor": 5
}
