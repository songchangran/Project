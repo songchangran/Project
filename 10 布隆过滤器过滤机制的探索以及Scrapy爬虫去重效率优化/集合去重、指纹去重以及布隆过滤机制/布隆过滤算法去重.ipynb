{
 "cells": [
  {
   "cell_type": "code",
   "execution_count": 16,
   "id": "9e5f7588-6219-4e97-b1b8-a61fb391698f",
   "metadata": {},
   "outputs": [
    {
     "name": "stdout",
     "output_type": "stream",
     "text": [
      "误判率: 5.20%\n"
     ]
    }
   ],
   "source": [
    "import math\n",
    "import redis\n",
    "import hashlib\n",
    "\n",
    "class BloomFilter:\n",
    "    # 初始化方法\n",
    "    def __init__(self, n, p):\n",
    "        # 初始化位数组长度 m\n",
    "        self.m = self._calculate_m(n, p)\n",
    "        # 预期存储的元素数量 n\n",
    "        self.k = self._calculate_k(n, self.m)\n",
    "        # 初始化存储位图的键\n",
    "        self.redis_key = 'bloom_filter'\n",
    "        # 初始化位数组\n",
    "        self.redis = redis.Redis(host='localhost', port=6379, db=0)\n",
    "        \n",
    "    # 添加元素，对数据进行 k 次不同的哈希计算，并将第 k 位置1\n",
    "    def add(self, item):\n",
    "        for i in range(self.k):\n",
    "            index = self._hash(item, i)\n",
    "            self.redis.setbit(self.redis_key, index, 1)\n",
    "\n",
    "    # 检查元素，判断元素是否一定不存在或者可能存在\n",
    "    def contains(self, item):\n",
    "        for i in range(self.k):\n",
    "            index = self._hash(item, i)\n",
    "            # 有一位为 0 则元素一定不存在，反之则可能存在\n",
    "            if self.redis.getbit(self.redis_key, index) == 0:\n",
    "                return False\n",
    "        return True\n",
    "\n",
    "    # 构造哈希函数，生成设置或检查索引\n",
    "    def _hash(self, item, seed):\n",
    "        # 实例化sha256对象\n",
    "        h = hashlib.sha256()\n",
    "        # 相当于对 item + seed 的组合计算哈希\n",
    "        h.update(item.encode('utf-8'))\n",
    "        h.update(str(seed).encode('utf-8'))\n",
    "        # 返回 获取 SHA-256 的 32 字节哈希值，并将其高位在前转换成的大整数，对 m 取余将数据对应的每一位索引限制在位数组长度 m 中\n",
    "        return int.from_bytes(h.digest(), byteorder='big') % self.m\n",
    "\n",
    "    # 按照公式计算m（静态方法）\n",
    "    @staticmethod\n",
    "    def _calculate_m(n: int, p: float) -> int:\n",
    "        m = -(n * math.log(p)) / (math.log(2) ** 2)\n",
    "        return math.ceil(m)\n",
    "\n",
    "    # 按照公式计算m\n",
    "    @staticmethod\n",
    "    def _calculate_k(n: int, m: int) -> int:\n",
    "        k = (m / n) * math.log(2)\n",
    "        return math.ceil(k)\n",
    "\n",
    "if __name__ == '__main__':\n",
    "    # 实例化布隆过滤器\n",
    "    bf = BloomFilter(1000, 0.05)\n",
    "    # 向空的布隆过滤器中添加元素\n",
    "    for i in range(1000):\n",
    "        bf.add('data' + str(i))\n",
    "    # \n",
    "    true_count = 0\n",
    "    for i in range(1000):\n",
    "        if bf.contains('not_data' + str(i)):\n",
    "            true_count += 1\n",
    "\n",
    "    print(f\"误判率: {(true_count / 1000)*100:.2f}%\")"
   ]
  }
 ],
 "metadata": {
  "kernelspec": {
   "display_name": "Python 3 (ipykernel)",
   "language": "python",
   "name": "python3"
  },
  "language_info": {
   "codemirror_mode": {
    "name": "ipython",
    "version": 3
   },
   "file_extension": ".py",
   "mimetype": "text/x-python",
   "name": "python",
   "nbconvert_exporter": "python",
   "pygments_lexer": "ipython3",
   "version": "3.12.9"
  }
 },
 "nbformat": 4,
 "nbformat_minor": 5
}
